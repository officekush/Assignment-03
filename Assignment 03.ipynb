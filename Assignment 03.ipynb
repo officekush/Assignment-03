{
 "cells": [
  {
   "cell_type": "code",
   "execution_count": 1,
   "id": "8427f7c7-e25d-4039-a3b3-dc730c17c0ac",
   "metadata": {},
   "outputs": [],
   "source": [
    "#ans 1"
   ]
  },
  {
   "cell_type": "code",
   "execution_count": 5,
   "id": "a7e4a871-580d-40de-a8a1-57f535a305ec",
   "metadata": {},
   "outputs": [],
   "source": [
    "# def is used to creat a function "
   ]
  },
  {
   "cell_type": "code",
   "execution_count": 12,
   "id": "de8c482d-20c1-459b-a676-7433d667e041",
   "metadata": {},
   "outputs": [
    {
     "data": {
      "text/plain": [
       "[1, 3, 5, 7, 9, 11, 13, 15, 17, 19, 21, 23]"
      ]
     },
     "execution_count": 12,
     "metadata": {},
     "output_type": "execute_result"
    }
   ],
   "source": [
    "def odd_numbers():\n",
    "  odd_numbers_1 = []\n",
    "  for i in range (1,25):\n",
    "    if (i%2)!= 0:\n",
    "      odd_numbers_1.append(i)\n",
    "  return odd_numbers_1\n",
    "odd_numbers()"
   ]
  },
  {
   "cell_type": "code",
   "execution_count": 14,
   "id": "1f7c8b71-4b07-43d6-913b-70df3a27b1f7",
   "metadata": {},
   "outputs": [
    {
     "data": {
      "text/plain": [
       "\"ans 2\\n*args are used in function to take multiple values after using args there will be no limitation on values and \\nevery time when there will be change in value we don't have to change the code.\\n\\n**kwargs also works same as args but kwargs only take key value pair same as dictionary and give \\nout put key wilth value.\""
      ]
     },
     "execution_count": 14,
     "metadata": {},
     "output_type": "execute_result"
    }
   ],
   "source": [
    "'''ans 2\n",
    "*args are used in function to take multiple values after using args there will be no limitation on values and \n",
    "every time when there will be change in value we don't have to change the code.\n",
    "\n",
    "**kwargs also works same as args but kwargs only take key value pair same as dictionary and give \n",
    "out put key wilth value.'''"
   ]
  },
  {
   "cell_type": "code",
   "execution_count": 37,
   "id": "b59b3b5d-777f-4b5d-80ed-054111a991f9",
   "metadata": {},
   "outputs": [
    {
     "data": {
      "text/plain": [
       "64"
      ]
     },
     "execution_count": 37,
     "metadata": {},
     "output_type": "execute_result"
    }
   ],
   "source": [
    "def add(*args):\n",
    "    total = 0\n",
    "    for num in args:\n",
    "        total += num\n",
    "    return total\n",
    "\n",
    "a1=(2,6,34,22)\n",
    "add(*a1)"
   ]
  },
  {
   "cell_type": "code",
   "execution_count": 38,
   "id": "d8a99959-e96a-4602-b7d6-fd5cb407dd68",
   "metadata": {},
   "outputs": [
    {
     "name": "stdout",
     "output_type": "stream",
     "text": [
      "name: John\n",
      "age: 30\n",
      "city: New York\n"
     ]
    }
   ],
   "source": [
    "def print_details(**kwargs):\n",
    "    for key, value in kwargs.items():\n",
    "        print(f\"{key}: {value}\")\n",
    "\n",
    "print_details(name=\"John\", age=30, city=\"New York\")\n"
   ]
  },
  {
   "cell_type": "code",
   "execution_count": 10,
   "id": "21cab5a5-62d5-4f50-8697-52f4fc54c695",
   "metadata": {},
   "outputs": [
    {
     "name": "stdout",
     "output_type": "stream",
     "text": [
      "2\n",
      "4\n",
      "6\n",
      "8\n",
      "10\n"
     ]
    }
   ],
   "source": [
    "'''ans 3 \n",
    "An iterator is an object that is used to iterate the elements from a data through its index value.\n",
    "There are two methods to iterator any data or value.\n",
    "1) iter()\n",
    "2) next() '''\n",
    "\n",
    "my_list = [2, 4, 6, 8, 10, 12, 14, 16, 18, 20]\n",
    "\n",
    "iterator=iter(my_list)\n",
    "\n",
    "for _ in range(5):\n",
    "    print(next(iterator))\n"
   ]
  },
  {
   "cell_type": "code",
   "execution_count": 3,
   "id": "dafcf898-4616-4f7a-902a-b25ce217fc49",
   "metadata": {},
   "outputs": [],
   "source": [
    "''' ans 4\n",
    "A generator function in Python is a special type of function that generates values \n",
    "allows you to iterate over them using a loop.generator function does not accure space in the\n",
    "memory and it can generate infinite numbers.\n",
    "\n",
    "Yeild is a keyword used in generator function to return the value.\n",
    "example '''\n",
    "\n",
    "def number_generator(n):\n",
    " i=0\n",
    " while i<n:\n",
    "    yield i\n",
    "    i += 1"
   ]
  },
  {
   "cell_type": "code",
   "execution_count": 5,
   "id": "87d2b9eb-7164-4cec-a8b3-7e9b0365b913",
   "metadata": {},
   "outputs": [
    {
     "name": "stdout",
     "output_type": "stream",
     "text": [
      "0\n",
      "1\n",
      "2\n",
      "3\n",
      "4\n"
     ]
    }
   ],
   "source": [
    "for num in number_generator(5):\n",
    "    print (num)"
   ]
  },
  {
   "cell_type": "code",
   "execution_count": 8,
   "id": "33d0c4b1-d14e-4ab4-a015-d2925cc9b339",
   "metadata": {},
   "outputs": [],
   "source": [
    "#ans 5\n",
    "\n",
    "def prime_01 (num):\n",
    "    if num < 2:\n",
    "        return false \n",
    "    for i in range(2,int(num**0.5)+1):\n",
    "        if num % i == 0:\n",
    "            return false \n",
    "    return true "
   ]
  },
  {
   "cell_type": "code",
   "execution_count": 18,
   "id": "07dc4bc6-6a9b-466b-9b16-373bfe2dac10",
   "metadata": {},
   "outputs": [],
   "source": [
    "def prime_generator ():\n",
    "    num=2\n",
    "    while num < 1000:\n",
    "        if prime_01 (num):\n",
    "            yield num\n",
    "        num += 1"
   ]
  },
  {
   "cell_type": "code",
   "execution_count": 25,
   "id": "1eb92929-b9bd-4c3b-87ac-a656041f21bb",
   "metadata": {},
   "outputs": [
    {
     "name": "stdout",
     "output_type": "stream",
     "text": [
      "2\n",
      "3\n",
      "5\n",
      "7\n",
      "11\n",
      "13\n",
      "17\n",
      "19\n",
      "23\n",
      "29\n",
      "31\n",
      "37\n",
      "41\n",
      "43\n",
      "47\n",
      "53\n",
      "59\n",
      "61\n",
      "67\n",
      "71\n"
     ]
    }
   ],
   "source": [
    "prime = prime_generator ()\n",
    "\n",
    "for i in range(20):\n",
    "    print (next(prime))"
   ]
  },
  {
   "cell_type": "code",
   "execution_count": 2,
   "id": "e7e10447-3409-4145-b0cd-4d3e8ecd53c1",
   "metadata": {},
   "outputs": [
    {
     "name": "stdout",
     "output_type": "stream",
     "text": [
      "[0, 1, 1, 2, 3, 5, 8, 13, 21, 34]\n"
     ]
    }
   ],
   "source": [
    "#ans 6\n",
    "fibonacci_sequence = [0, 1]\n",
    "\n",
    "while len(fibonacci_sequence) < 10:\n",
    "    next_number = fibonacci_sequence[-1] + fibonacci_sequence[-2]\n",
    "    fibonacci_sequence.append(next_number)\n",
    "\n",
    "print(fibonacci_sequence)\n"
   ]
  },
  {
   "cell_type": "code",
   "execution_count": 6,
   "id": "eaa4a68e-8689-4fde-8eda-e9aedc99f5f6",
   "metadata": {},
   "outputs": [
    {
     "name": "stdout",
     "output_type": "stream",
     "text": [
      "['p', 'w', 's', 'k', 'i', 'l', 'l', 's']\n"
     ]
    }
   ],
   "source": [
    "#ans 7 \n",
    "string = 'pwskills'\n",
    "list1 = []\n",
    "\n",
    "for i in string:\n",
    "    list1.append(i)\n",
    "\n",
    "print(list1)\n"
   ]
  },
  {
   "cell_type": "code",
   "execution_count": 7,
   "id": "6fb98501-1c1e-4242-b353-e12465bdf743",
   "metadata": {},
   "outputs": [],
   "source": [
    "#ans 8\n",
    "#Don't Know"
   ]
  },
  {
   "cell_type": "code",
   "execution_count": 10,
   "id": "75e52b9a-a52e-4a2d-8030-b7543f6966a1",
   "metadata": {},
   "outputs": [
    {
     "name": "stdout",
     "output_type": "stream",
     "text": [
      "[1, 3, 5, 7, 9, 11, 13, 15, 17, 19, 21, 23, 25, 27, 29, 31, 33, 35, 37, 39, 41, 43, 45, 47, 49, 51, 53, 55, 57, 59, 61, 63, 65, 67, 69, 71, 73, 75, 77, 79, 81, 83, 85, 87, 89, 91, 93, 95, 97, 99]\n"
     ]
    }
   ],
   "source": [
    "#ans 9\n",
    "odd_numbers = [i for i in range(1, 101) if i % 2 != 0]\n",
    "print(odd_numbers)\n"
   ]
  }
 ],
 "metadata": {
  "kernelspec": {
   "display_name": "Python 3 (ipykernel)",
   "language": "python",
   "name": "python3"
  },
  "language_info": {
   "codemirror_mode": {
    "name": "ipython",
    "version": 3
   },
   "file_extension": ".py",
   "mimetype": "text/x-python",
   "name": "python",
   "nbconvert_exporter": "python",
   "pygments_lexer": "ipython3",
   "version": "3.10.8"
  }
 },
 "nbformat": 4,
 "nbformat_minor": 5
}
